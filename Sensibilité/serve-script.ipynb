{
 "cells": [
  {
   "cell_type": "markdown",
   "id": "7d13ce4c-07e1-4d6e-8ef1-9f124e11e79f",
   "metadata": {},
   "source": [
    "# Start app with this\n",
    "Link to app: https://pavics.ouranos.ca/jupyter/user-redirect/proxy/28283/Sensibilite_climatique\n",
    "\n",
    "Shutdown script : [link](./shutdown-script.ipynb)"
   ]
  },
  {
   "cell_type": "code",
   "execution_count": null,
   "id": "90a23ed6-e238-4898-8221-533332f7270f",
   "metadata": {},
   "outputs": [
    {
     "name": "stdout",
     "output_type": "stream",
     "text": [
      "2022-12-21 19:25:59,787 Starting Bokeh server version 2.4.3 (running on Tornado 6.1)\n",
      "2022-12-21 19:25:59,788 Host wildcard '*' will allow connections originating from multiple (or possibly all) hostnames or IPs. Use non-wildcard values to restrict access explicitly\n",
      "2022-12-21 19:25:59,788 User authentication hooks NOT provided (default user enabled)\n",
      "2022-12-21 19:25:59,790 Bokeh app running at: http://localhost:28283/Sensibilite_climatique\n",
      "2022-12-21 19:25:59,790 Starting Bokeh server with process id: 9230\n",
      "/notebook_dir/public/sgammon-public/Sensitivity/Sensibilite_climatique.ipynb:329: RuntimeWarning: invalid value encountered in double_scalars\n",
      "  \"    root._bokeh_onload_callbacks.push(callback);\\n\",\n",
      "/notebook_dir/public/sgammon-public/Sensitivity/Sensibilite_climatique.ipynb:361: RuntimeWarning: divide by zero encountered in double_scalars\n",
      "  \"      document.body.appendChild(element);\\n\",\n"
     ]
    }
   ],
   "source": [
    "! panel serve --port=28283 --allow-websocket-origin=* /notebook_dir/public/sgammon-public/Sensitivity/Sensibilite_climatique.ipynb\n"
   ]
  },
  {
   "cell_type": "code",
   "execution_count": null,
   "id": "fa483420-b7f3-48db-b8bc-84253409d888",
   "metadata": {},
   "outputs": [],
   "source": []
  }
 ],
 "metadata": {
  "kernelspec": {
   "display_name": "birdy",
   "language": "python",
   "name": "birdy"
  },
  "language_info": {
   "codemirror_mode": {
    "name": "ipython",
    "version": 3
   },
   "file_extension": ".py",
   "mimetype": "text/x-python",
   "name": "python",
   "nbconvert_exporter": "python",
   "pygments_lexer": "ipython3",
   "version": "3.8.13"
  }
 },
 "nbformat": 4,
 "nbformat_minor": 5
}
