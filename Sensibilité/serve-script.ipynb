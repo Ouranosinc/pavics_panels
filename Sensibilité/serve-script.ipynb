{
 "cells": [
  {
   "cell_type": "markdown",
   "id": "7d13ce4c-07e1-4d6e-8ef1-9f124e11e79f",
   "metadata": {},
   "source": [
    "# Start app with this\n",
    "Link to app: https://pavics.ouranos.ca/jupyter/user-redirect/proxy/28283/Sensibilite_climatique\n",
    "\n",
    "Shutdown script : [link](./shutdown-script.ipynb)"
   ]
  },
  {
   "cell_type": "code",
   "execution_count": null,
   "id": "90a23ed6-e238-4898-8221-533332f7270f",
   "metadata": {},
   "outputs": [],
   "source": [
    "! panel serve --port=28283 --allow-websocket-origin=* Sensibilite_climatique.ipynb --autoreload --admin\n"
   ]
  },
  {
   "cell_type": "code",
   "execution_count": null,
   "id": "fa483420-b7f3-48db-b8bc-84253409d888",
   "metadata": {},
   "outputs": [],
   "source": []
  }
 ],
 "metadata": {
  "kernelspec": {
   "display_name": "Python 3",
   "language": "python",
   "name": "python3"
  },
  "language_info": {
   "codemirror_mode": {
    "name": "ipython",
    "version": 3
   },
   "file_extension": ".py",
   "mimetype": "text/x-python",
   "name": "python",
   "nbconvert_exporter": "python",
   "pygments_lexer": "ipython3",
   "version": "3.8.15"
  }
 },
 "nbformat": 4,
 "nbformat_minor": 5
}
