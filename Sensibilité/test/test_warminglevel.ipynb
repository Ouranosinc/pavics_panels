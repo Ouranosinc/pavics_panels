{
 "cells": [
  {
   "cell_type": "code",
   "execution_count": null,
   "metadata": {},
   "outputs": [],
   "source": [
    "import pandas as pd\n",
    "import xarray as xr\n",
    "from load import load_global_tas, load_sherwood, load_zelinka\n",
    "tas = load_global_tas().set_index(\"year\")\n",
    "tas.columns = tas.columns.str.split(\"_\", expand=True)\n",
    "tas = xr.DataArray(tas,dims=['year','model'],name='tas').rename({\"model_level_0\":\"generation\",\"model_level_1\":\"center\",\"model_level_2\":\"scenario\",\"model_level_3\":\"real\"})\n",
    "import json\n",
    "import urllib\n",
    "zelinka_url = \"https://raw.githubusercontent.com/mzelinka/cmip56_forcing_feedback_ecs/master/cmip56_forcing_feedback_ecs.json\"\n",
    "data = urllib.request.urlopen(zelinka_url)\n",
    "zelinka = json.load(data)\n",
    "zelinka = {k: v for k, v in zelinka.items() if k in [\"CMIP6\",\"CMIP5\"]}\n",
    "zelinka = pd.json_normalize(zelinka, sep=\"_\")\n",
    "zelinka.columns = zelinka.columns.str.split(\"_\", expand=True)\n",
    "zelinka = zelinka.transpose().unstack()\n",
    "zelinka.columns = zelinka.columns.droplevel(0)\n",
    "zelinka = xr.Dataset(zelinka).rename({\"dim_0\":\"model\",\"dim_0_level_0\":\"generation\",\"dim_0_level_1\":\"center\",\"dim_0_level_2\":\"real\"})\n",
    "#ecs = load_zelinka()\n",
    "sherwood = load_sherwood()\n"
   ]
  },
  {
   "cell_type": "code",
   "execution_count": null,
   "metadata": {},
   "outputs": [],
   "source": [
    "import panel as pn\n",
    "import holoviews as hv\n",
    "import hvplot.xarray\n",
    "pn.extension()\n",
    "import numpy as np\n",
    "refyears = 29\n",
    "\n",
    "tas_filt = tas\n",
    "#select_model = pn.widgets.Select(options={m:i for i,m in enumerate(tas_filt['model'].values)},value=0)\n",
    "\n",
    "#tas.unstack('model').hvplot(x='year',by='center')\n"
   ]
  },
  {
   "cell_type": "code",
   "execution_count": null,
   "metadata": {},
   "outputs": [],
   "source": [
    "refs_start = range(tas.year.values[0]+1,tas.year.values[-1]-refyears,10)\n",
    "w_reference_period = pn.widgets.DiscreteSlider(name=\"reference period\", \n",
    "                                               options={f\"{m}-{m+refyears}\":m for i,m in enumerate(refs_start)},\n",
    "                                               value=1991)\n",
    "w_generation  = pn.widgets.Select(name=\"generation\",  disabled = False, \n",
    "                                  options=['all',*list(np.unique(tas_filt['generation'].values))],\n",
    "                                  value = 'CMIP6')\n",
    "w_center      = pn.widgets.Select(name=\"center\",      disabled = False , \n",
    "                                  options=['all',*list(np.unique(tas_filt['center'].values))] )\n",
    "w_scenario    = pn.widgets.Select(name=\"scenario\",    disabled = False , \n",
    "                                  options=['all',*list(np.unique(tas_filt['scenario'].values))] )\n",
    "w_realization = pn.widgets.Select(name=\"real\", disabled = False , \n",
    "                                  options=['all','first',*list(np.unique(tas_filt['real'].values))] )\n"
   ]
  },
  {
   "cell_type": "code",
   "execution_count": null,
   "metadata": {},
   "outputs": [],
   "source": [
    "\n",
    "#@pn.depends(w_generation,watch=True)\n",
    "def update_center(gen):\n",
    "    if gen != 'all':\n",
    "        gen_sel = tas_filt.sel(generation=gen).dropna(dim='model',how='all')\n",
    "        scen_gen = np.unique(gen_sel['center'].values)\n",
    "        w_center.options = list(['all',*scen_gen])\n",
    "        w_center.disabled = False\n",
    "    else:\n",
    "        w_center.disabled = True\n",
    "        \n"
   ]
  },
  {
   "cell_type": "code",
   "execution_count": null,
   "metadata": {},
   "outputs": [],
   "source": [
    "##@pn.depends(w_generation,watch=True)\n",
    "def update_scenario(gen):\n",
    "    if gen != 'all':\n",
    "        gen_sel = tas_filt.sel(generation=gen).dropna(dim='model',how='all')\n",
    "        scen_gen = np.unique(gen_sel['scenario'].values)\n",
    "        w_scenario.options = list(['all',*scen_gen])\n",
    "        w_scenario.disabled = False\n",
    "    else:\n",
    "        w_scenario.disabled = True\n",
    "        \n"
   ]
  },
  {
   "cell_type": "code",
   "execution_count": null,
   "metadata": {},
   "outputs": [],
   "source": [
    "#@pn.depends(w_generation,watch=True)\n",
    "def update_realization(gen):\n",
    "    if gen != 'all':\n",
    "        gen_sel = tas_filt.sel(generation=gen).dropna(dim='model',how='all')\n",
    "        scen_gen = np.unique(gen_sel['real'].values)\n",
    "        w_realization.options = list(['all','first',*scen_gen])\n",
    "        w_realization.disabled = False\n",
    "    else:\n",
    "        w_realization.disabled = True\n",
    "        \n"
   ]
  },
  {
   "cell_type": "code",
   "execution_count": null,
   "metadata": {},
   "outputs": [],
   "source": [
    "fut = slice(2071,2100)\n",
    "\n",
    "\n",
    "def tas_select(gen='all',center='all',scenario='all',realization='all',refstart=1991):\n",
    "    tas_sel = tas_filt\n",
    "    tas_sel = tas_sel.sel(generation=gen) if gen != 'all' else tas_sel\n",
    "    tas_sel = tas_sel.sel(center=center) if center != 'all' else tas_sel\n",
    "    tas_sel = tas_sel.sel(scenario=scenario) if scenario != 'all' else tas_sel\n",
    "    tas_sel = tas_sel.sel(real=realization) if realization not in ['all','first'] else tas_sel\n",
    "\n",
    "    ref = tas_sel.sel(year=slice(refstart,refstart+refyears)).mean(dim=\"year\")\n",
    "    delta = tas_sel.sel(year=fut).mean(dim=\"year\") - ref\n",
    "    return delta\n",
    "\n",
    "@pn.depends(gen=w_generation.value)\n",
    "def plot_kde(gen):\n",
    "    delta = tas_select(gen,center,scenario,realization,refstart)\n",
    "    return pn.Row(pn.pane.DataFrame(delta.to_dataframe()),)"
   ]
  },
  {
   "cell_type": "code",
   "execution_count": null,
   "metadata": {},
   "outputs": [],
   "source": [
    "\n",
    "w_threshold = pn.widgets.FloatSlider(name=\"threshold\", value=1.5, start=0.0, end=6.0, step=0.5)\n",
    "@pn.depends(w_generation,w_center,w_scenario,w_realization,w_reference_period,w_threshold)\n",
    "def year_kde(gen,center,scenario,realization,refstart,threshold):\n",
    "    tas_sel = tas_filt.sel(generation=(gen if gen != 'all' else slice(None)),\n",
    "                            center=(center if center != 'all' else slice(None)),\n",
    "                            scenario=(scenario if scenario != 'all' else slice(None)),\n",
    "                            realization=(realization if realization not in ['all','first'] else slice(None))\n",
    "                    )\n",
    "    ref = tas_sel.sel(year=slice(refstart,refstart+refyears)).mean(dim=\"year\")\n",
    "    delta = tas_sel - ref\n",
    "    delta = delta.where(delta > threshold,drop=True)\n",
    "    deltayr = {}\n",
    "    for model in delta.model.values:\n",
    "        deltayr[model] = delta.sel(model=model).dropna(dim='year',how='all').year.min()\n",
    "    deltayr = pd.DataFrame(deltayr)\n",
    "    return pn.Row(pn.pane.DataFrame(deltayr,height=400),\n",
    "                  deltayr.hvplot(xlabel='year when tas(fut)-tas(ref) > thresh',height=400))\n"
   ]
  },
  {
   "cell_type": "code",
   "execution_count": null,
   "metadata": {},
   "outputs": [],
   "source": [
    "\n",
    "layout = pn.Column(pn.Row(w_generation),\n",
    "                   pn.Row(w_reference_period,pn.panel(f\"Future period: **{fut.start}-{fut.stop}**\")),\n",
    "                   plot_kde)\n",
    "layout.servable()"
   ]
  }
 ],
 "metadata": {
  "kernelspec": {
   "display_name": "pavics",
   "language": "python",
   "name": "python3"
  },
  "language_info": {
   "codemirror_mode": {
    "name": "ipython",
    "version": 3
   },
   "file_extension": ".py",
   "mimetype": "text/x-python",
   "name": "python",
   "nbconvert_exporter": "python",
   "pygments_lexer": "ipython3",
   "version": "3.8.15"
  },
  "orig_nbformat": 4
 },
 "nbformat": 4,
 "nbformat_minor": 2
}
