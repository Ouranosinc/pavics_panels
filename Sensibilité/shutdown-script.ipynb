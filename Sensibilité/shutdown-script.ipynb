{
 "cells": [
  {
   "cell_type": "code",
   "execution_count": null,
   "id": "75eef373-63a6-4b15-920b-9dccc9d6ca87",
   "metadata": {},
   "outputs": [],
   "source": []
  },
  {
   "cell_type": "code",
   "execution_count": null,
   "id": "ae541bc8-037e-4b0e-bd53-8641358df6e5",
   "metadata": {},
   "outputs": [],
   "source": []
  },
  {
   "cell_type": "code",
   "execution_count": 9,
   "id": "0680ff3b-3035-40cb-92b7-b1a67ae8c5af",
   "metadata": {},
   "outputs": [],
   "source": [
    "# Following piped command does following:\n",
    "# 1) get all active jobs in a formatted list (ps command)\n",
    "# 2) filter to find panel serve job (grep command)\n",
    "# 3) clear out leading spaces from grep output (sed command)\n",
    "# 4) isolate just the job # (cut command)\n",
    "# 5) kill job based on PID, using xargs\n",
    "! ps -ef -o pid,command | grep '[/]bin/sh -c  panel serve' | sed -e 's/^[ \\t]*//' | cut -d ' ' -f 1 | xargs kill"
   ]
  },
  {
   "cell_type": "code",
   "execution_count": null,
   "id": "75c6965f-bffe-41fb-a8e9-859023f10662",
   "metadata": {},
   "outputs": [],
   "source": []
  }
 ],
 "metadata": {
  "kernelspec": {
   "display_name": "birdy",
   "language": "python",
   "name": "birdy"
  },
  "language_info": {
   "codemirror_mode": {
    "name": "ipython",
    "version": 3
   },
   "file_extension": ".py",
   "mimetype": "text/x-python",
   "name": "python",
   "nbconvert_exporter": "python",
   "pygments_lexer": "ipython3",
   "version": "3.8.13"
  }
 },
 "nbformat": 4,
 "nbformat_minor": 5
}
